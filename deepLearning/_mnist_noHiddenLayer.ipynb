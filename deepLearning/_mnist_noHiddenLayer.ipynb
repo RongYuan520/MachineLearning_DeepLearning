{
 "cells": [
  {
   "cell_type": "markdown",
   "metadata": {},
   "source": [
    "用单层神经网络实现手写数字识别，输入是[55000,784]输出是[55000,10]\n",
    "网络结构分为2层，输入层和输出层，无隐层"
   ]
  },
  {
   "cell_type": "markdown",
   "metadata": {},
   "source": [
    "1，数据准备"
   ]
  },
  {
   "cell_type": "code",
   "execution_count": 3,
   "metadata": {},
   "outputs": [
    {
     "name": "stdout",
     "output_type": "stream",
     "text": [
      "Extracting MNIST_data/train-images-idx3-ubyte.gz\n",
      "Extracting MNIST_data/train-labels-idx1-ubyte.gz\n",
      "Extracting MNIST_data/t10k-images-idx3-ubyte.gz\n",
      "Extracting MNIST_data/t10k-labels-idx1-ubyte.gz\n",
      "(55000, 784) (55000, 10)\n",
      "(10000, 784) (10000, 10)\n"
     ]
    }
   ],
   "source": [
    "import tensorflow as tf\n",
    "from tensorflow.examples.tutorials.mnist import input_data\n",
    "mnist = input_data.read_data_sets(\"MNIST_data/\",one_hot=True)\n",
    "\n",
    "print(mnist.train.images.shape,mnist.train.labels.shape)\n",
    "print(mnist.test.images.shape,mnist.test.labels.shape)"
   ]
  },
  {
   "cell_type": "markdown",
   "metadata": {},
   "source": [
    "2,准备好placeholder"
   ]
  },
  {
   "cell_type": "code",
   "execution_count": 4,
   "metadata": {},
   "outputs": [],
   "source": [
    "batch_size = 256\n",
    "x = tf.placeholder(tf.float32,[batch_size,784],name=\"x\")\n",
    "y_ = tf.placeholder(tf.float32,[batch_size,10],name=\"y\")"
   ]
  },
  {
   "cell_type": "markdown",
   "metadata": {},
   "source": [
    "3,初始化参数/权重"
   ]
  },
  {
   "cell_type": "code",
   "execution_count": 5,
   "metadata": {},
   "outputs": [],
   "source": [
    "w = tf.Variable(tf.zeros([784,10]),name=\"w\")\n",
    "b = tf.Variable(tf.zeros([10]),name=\"b\")"
   ]
  },
  {
   "cell_type": "markdown",
   "metadata": {},
   "source": [
    "4,拿到每个类别的score"
   ]
  },
  {
   "cell_type": "code",
   "execution_count": 6,
   "metadata": {},
   "outputs": [],
   "source": [
    "logits = tf.matmul(x,w) + b"
   ]
  },
  {
   "cell_type": "markdown",
   "metadata": {},
   "source": [
    "5,计算多分类的softmax的loss function"
   ]
  },
  {
   "cell_type": "code",
   "execution_count": 8,
   "metadata": {},
   "outputs": [],
   "source": [
    "#交叉熵损失\n",
    "entropy = tf.nn.softmax_cross_entropy_with_logits(logits = logits, labels = y_,name=\"loss\")\n",
    "#求平均值\n",
    "loss = tf.reduce_mean(entropy)"
   ]
  },
  {
   "cell_type": "markdown",
   "metadata": {},
   "source": [
    "6,准备好optimizer"
   ]
  },
  {
   "cell_type": "code",
   "execution_count": 9,
   "metadata": {},
   "outputs": [],
   "source": [
    "learning_rate = 0.01\n",
    "optimizer = tf.train.AdamOptimizer(learning_rate).minimize(loss)"
   ]
  },
  {
   "cell_type": "code",
   "execution_count": null,
   "metadata": {},
   "outputs": [],
   "source": [
    "7,在session里执行graph里定义的运算"
   ]
  },
  {
   "cell_type": "code",
   "execution_count": 14,
   "metadata": {},
   "outputs": [
    {
     "name": "stdout",
     "output_type": "stream",
     "text": [
      "epoch 0:84.77315130829811\n",
      "epoch 1:62.57736298441887\n",
      "epoch 2:60.10866838693619\n",
      "epoch 3:57.68238312005997\n",
      "epoch 4:56.61776652932167\n",
      "epoch 5:57.062183275818825\n",
      "epoch 6:55.28260776400566\n",
      "epoch 7:54.37119561433792\n",
      "epoch 8:55.99107585847378\n",
      "epoch 9:55.31081907451153\n",
      "epoch 10:52.587845996022224\n",
      "epoch 11:54.12072789669037\n",
      "epoch 12:53.79538296163082\n",
      "epoch 13:54.49588494002819\n",
      "epoch 14:53.36794748157263\n",
      "epoch 15:53.194341257214546\n",
      "epoch 16:52.82488125562668\n",
      "epoch 17:52.953132182359695\n",
      "epoch 18:52.81838233023882\n",
      "epoch 19:52.01245100796223\n",
      "epoch 20:52.00089593231678\n",
      "epoch 21:53.04213845729828\n",
      "epoch 22:51.77782931923866\n",
      "epoch 23:53.33184579014778\n",
      "epoch 24:51.30111961811781\n",
      "epoch 25:51.6232640221715\n",
      "epoch 26:51.49302378296852\n",
      "epoch 27:52.50800713151693\n",
      "epoch 28:52.676026947796345\n",
      "epoch 29:50.445825740695\n",
      "optimizer finished\n",
      "accuracy 0.9334\n"
     ]
    }
   ],
   "source": [
    "n_epoch = 30\n",
    "init = tf.global_variables_initializer()\n",
    "with tf.Session() as sess:\n",
    "    writer = tf.summary.FileWriter(\"./graphs/logistic_rec\",sess.graph)\n",
    "    sess.run(init)\n",
    "    n_batch = int(mnist.train.num_examples/batch_size)\n",
    "    for i in range(n_epoch):\n",
    "        total_loss = 0\n",
    "        for _ in range(n_batch):\n",
    "            x_batch,y_batch = mnist.train.next_batch(batch_size)\n",
    "            _,loss_batch = sess.run([optimizer,loss],feed_dict={x:x_batch,y_:y_batch})\n",
    "            total_loss += loss_batch\n",
    "        print(\"epoch {0}:{1}\".format(i,total_loss))\n",
    "    print(\"optimizer finished\")\n",
    "    \n",
    "    #测试模型\n",
    "    preds = tf.nn.softmax(logits)\n",
    "    correct_preds = tf.equal(tf.argmax(preds,1),tf.argmax(y_,1))\n",
    "    accuracy = tf.reduce_sum(tf.cast(correct_preds,tf.float32))\n",
    "    \n",
    "    n_batch = int(mnist.test.num_examples/batch_size)\n",
    "    total_correct_preds = 0\n",
    "    \n",
    "    for i in range(n_batch):\n",
    "        x_batch,y_batch = mnist.train.next_batch(batch_size)\n",
    "        accuracy_batch = sess.run([accuracy],feed_dict={x:x_batch,y_:y_batch})\n",
    "        total_correct_preds += accuracy_batch[0]\n",
    "    print(\"accuracy {0}\".format(total_correct_preds/mnist.test.num_examples))\n",
    "    \n",
    "    writer.close()\n",
    "        \n",
    "    "
   ]
  },
  {
   "cell_type": "code",
   "execution_count": null,
   "metadata": {},
   "outputs": [],
   "source": []
  }
 ],
 "metadata": {
  "kernelspec": {
   "display_name": "Python 3",
   "language": "python",
   "name": "python3"
  },
  "language_info": {
   "codemirror_mode": {
    "name": "ipython",
    "version": 3
   },
   "file_extension": ".py",
   "mimetype": "text/x-python",
   "name": "python",
   "nbconvert_exporter": "python",
   "pygments_lexer": "ipython3",
   "version": "3.5.2"
  }
 },
 "nbformat": 4,
 "nbformat_minor": 2
}
